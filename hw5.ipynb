{
 "cells": [
  {
   "cell_type": "markdown",
   "id": "6a7c5c39-af36-48dc-b4ea-73b07a864b73",
   "metadata": {},
   "source": [
    "1. Напишите код, моделирующий выпадение поля в рулетке (с учетом поля зеро)."
   ]
  },
  {
   "cell_type": "code",
   "execution_count": 2,
   "id": "ee44febf-6674-4697-ad96-ceed86d0811f",
   "metadata": {},
   "outputs": [
    {
     "name": "stdin",
     "output_type": "stream",
     "text": [
      ">>>>  red\n"
     ]
    },
    {
     "name": "stdout",
     "output_type": "stream",
     "text": [
      "34 red\n",
      "win\n"
     ]
    }
   ],
   "source": [
    "from random import randint\n",
    " \n",
    "class Roll:\n",
    " \n",
    "    def __init__(self):\n",
    "        self.reds = (1,3,5,7,9,12,14,16,18,21,23,25,27,30,32,34,36)\n",
    "        self.blacks = (2,4,6,8,10,11,13,15,17,19,20,22,24,26,28,29,31,33,35)\n",
    " \n",
    "    def roll(self):\n",
    "        n = randint(0, 36)\n",
    " \n",
    "        isdigit = False\n",
    "        inp = input('>>>> ')\n",
    "        if inp.isdigit():\n",
    "            inp = int(inp)\n",
    "            isdigit = True\n",
    "        elif inp not in ['black', 'red']:\n",
    "            return None\n",
    " \n",
    "        red = False\n",
    "        black = False\n",
    " \n",
    "        if n == 0:\n",
    "            print('zero')\n",
    "        elif n in self.reds:\n",
    "            print(n, 'red')\n",
    "            red = True\n",
    "        elif n in self.blacks:\n",
    "            print(n, 'black')\n",
    "            black = True\n",
    " \n",
    "        if isdigit:\n",
    "            if n == inp:\n",
    "                return 'win'\n",
    "            return 'loss'\n",
    "        else:\n",
    "            if inp == 'red' and red:\n",
    "                return 'win'\n",
    "            elif inp == 'black' and black:\n",
    "                return 'win'\n",
    "            return 'loss'\n",
    " \n",
    "r = Roll()\n",
    "print(r.roll())"
   ]
  },
  {
   "cell_type": "markdown",
   "id": "75f8d77d-1d9f-4588-9d4c-f07d6791eb61",
   "metadata": {},
   "source": [
    "\n",
    "1. Напишите код, проверяющий любую из теорем сложения или умножения вероятности на примере рулетки или подбрасывания монетки.\n",
    "2. Сгенерируйте десять выборок случайных чисел х0, …, х9. и постройте гистограмму распределения случайной суммы  +х0+ …+ х 9. \n"
   ]
  },
  {
   "cell_type": "code",
   "execution_count": 18,
   "id": "3b4e6cd9-5f98-41d4-9480-6d779a2ccd32",
   "metadata": {},
   "outputs": [
    {
     "name": "stdout",
     "output_type": "stream",
     "text": [
      "Решек 510\n",
      "Орлов 490\n",
      "Вероятность выпадения орла 0.49\n",
      "Вероятность выпадения решки 0.51\n"
     ]
    }
   ],
   "source": [
    "orel = 0\n",
    "resh = 0\n",
    "i = 0\n",
    "while i<1000:\n",
    "    i += 1\n",
    "    coin = random.randint(1,2)\n",
    "    if coin == 1:\n",
    "        orel += 1\n",
    "    if coin == 2:\n",
    "        resh += 1\n",
    "print (\"Решек\", resh)\n",
    "print (\"Орлов\", orel)\n",
    "print('Вероятность выпадения орла', orel/(orel+resh))\n",
    "print('Вероятность выпадения решки', resh/(orel+resh))"
   ]
  },
  {
   "cell_type": "code",
   "execution_count": 19,
   "id": "f40ec563-e424-416f-a8c0-25a5d6f33907",
   "metadata": {},
   "outputs": [
    {
     "data": {
      "text/plain": [
       "Text(0.5, 1.0, 'Histogram')"
      ]
     },
     "execution_count": 19,
     "metadata": {},
     "output_type": "execute_result"
    },
    {
     "data": {
      "image/png": "[encoded data removed]",
      "text/plain": [
       "<Figure size 432x288 with 1 Axes>"
      ]
     },
     "metadata": {
      "needs_background": "light"
     },
     "output_type": "display_data"
    }
   ],
   "source": [
    "allsums=[]\n",
    "for i in range(11):\n",
    "    x=np.random.rand(10)\n",
    "    allsums.append(sum(x))\n",
    "    i+=1\n",
    "num_bins = 10\n",
    "n, bins, patches = plt.hist(allsums, num_bins)\n",
    "plt.xlabel('summa')\n",
    "plt.ylabel('Probability')\n",
    "plt.title('Histogram')"
   ]
  },
  {
   "cell_type": "code",
   "execution_count": null,
   "id": "ef2b2682-10db-42ab-b7d1-a46b4e901663",
   "metadata": {},
   "outputs": [],
   "source": []
  }
 ],
 "metadata": {
  "kernelspec": {
   "display_name": "Python 3 (ipykernel)",
   "language": "python",
   "name": "python3"
  },
  "language_info": {
   "codemirror_mode": {
    "name": "ipython",
    "version": 3
   },
   "file_extension": ".py",
   "mimetype": "text/x-python",
   "name": "python",
   "nbconvert_exporter": "python",
   "pygments_lexer": "ipython3",
   "version": "3.9.7"
  }
 },
 "nbformat": 4,
 "nbformat_minor": 5
}
